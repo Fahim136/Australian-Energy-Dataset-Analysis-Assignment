{
  "nbformat": 4,
  "nbformat_minor": 0,
  "metadata": {
    "colab": {
      "provenance": [],
      "collapsed_sections": [
        "_lfeLSgbRz2t"
      ],
      "authorship_tag": "ABX9TyNGfWAD7DZiadqSGO9cy/Za",
      "include_colab_link": true
    },
    "kernelspec": {
      "name": "python3",
      "display_name": "Python 3"
    },
    "language_info": {
      "name": "python"
    }
  },
  "cells": [
    {
      "cell_type": "markdown",
      "metadata": {
        "id": "view-in-github",
        "colab_type": "text"
      },
      "source": [
        "<a href=\"https://colab.research.google.com/github/Fahim136/Australian-Energy-Dataset-Analysis-Assignment/blob/main/Australian_Energy_Dataset_Analysis.ipynb\" target=\"_parent\"><img src=\"https://colab.research.google.com/assets/colab-badge.svg\" alt=\"Open In Colab\"/></a>"
      ]
    },
    {
      "cell_type": "markdown",
      "source": [
        "### ***Configuring git***"
      ],
      "metadata": {
        "id": "BCMow6NUMI7B"
      }
    },
    {
      "cell_type": "code",
      "source": [
        "!apt-get install git -y"
      ],
      "metadata": {
        "colab": {
          "base_uri": "https://localhost:8080/"
        },
        "id": "jYQVS4XBML9K",
        "outputId": "5fe36f79-8abb-4cc6-e902-242777b88e4d"
      },
      "execution_count": null,
      "outputs": [
        {
          "output_type": "stream",
          "name": "stdout",
          "text": [
            "Reading package lists... Done\n",
            "Building dependency tree... Done\n",
            "Reading state information... Done\n",
            "git is already the newest version (1:2.34.1-1ubuntu1.10).\n",
            "0 upgraded, 0 newly installed, 0 to remove and 45 not upgraded.\n"
          ]
        }
      ]
    },
    {
      "cell_type": "code",
      "source": [
        "!git config --global user.name \"Fahim Shariar\"\n",
        "!git config --global user.email \"Shariarfahim356@gmail.com\""
      ],
      "metadata": {
        "id": "ZnE1Oyu1M866"
      },
      "execution_count": null,
      "outputs": []
    },
    {
      "cell_type": "code",
      "source": [
        "!git clone https://github.com/Fahim136/Australian-Energy-Dataset-Analysis-Assignment.git"
      ],
      "metadata": {
        "colab": {
          "base_uri": "https://localhost:8080/"
        },
        "id": "RJDXa-lROAaV",
        "outputId": "a3fa73b6-0150-4e84-f7b7-bba0334cb21c"
      },
      "execution_count": null,
      "outputs": [
        {
          "output_type": "stream",
          "name": "stdout",
          "text": [
            "Cloning into 'Australian-Energy-Dataset-Analysis-Assignment'...\n",
            "warning: You appear to have cloned an empty repository.\n"
          ]
        }
      ]
    },
    {
      "cell_type": "code",
      "source": [
        "%cd Australian-Energy-Dataset-Analysis-Assignment"
      ],
      "metadata": {
        "colab": {
          "base_uri": "https://localhost:8080/"
        },
        "id": "ipBE7A1LOMeM",
        "outputId": "3226dcda-e732-4e41-b3e5-e144180aa5ed"
      },
      "execution_count": null,
      "outputs": [
        {
          "output_type": "stream",
          "name": "stdout",
          "text": [
            "/content/Australian-Energy-Dataset-Analysis-Assignment\n"
          ]
        }
      ]
    },
    {
      "cell_type": "markdown",
      "source": [
        "deleted the main configuration part using remote url as it contained secret token and github raised a warning."
      ],
      "metadata": {
        "id": "Lu9iDBbgZihY"
      }
    },
    {
      "cell_type": "code",
      "source": [
        "!git status"
      ],
      "metadata": {
        "colab": {
          "base_uri": "https://localhost:8080/"
        },
        "id": "k7kn_7eJViJx",
        "outputId": "a8664624-11f1-428f-bc5c-9297fc1d37e8"
      },
      "execution_count": 63,
      "outputs": [
        {
          "output_type": "stream",
          "name": "stdout",
          "text": [
            "On branch main\n",
            "Your branch is up to date with 'origin/main'.\n",
            "\n",
            "nothing to commit, working tree clean\n"
          ]
        }
      ]
    },
    {
      "cell_type": "markdown",
      "source": [
        "# ***Australian Energy Dataset Analysis***"
      ],
      "metadata": {
        "id": "gTk_Z90mOwVq"
      }
    },
    {
      "cell_type": "code",
      "source": [
        "# Import necessary libraries\n",
        "import sqlite3\n",
        "import pandas as pd\n",
        "import numpy as np\n",
        "import matplotlib.pyplot as plt"
      ],
      "metadata": {
        "id": "QONyL4HVRGqd"
      },
      "execution_count": null,
      "outputs": []
    },
    {
      "cell_type": "markdown",
      "source": [
        "The sqlite3.Cursor class is an instance using which can invoke methods that execute SQLite statements, fetch data from the result sets of the queries."
      ],
      "metadata": {
        "id": "XgcXooXjPAwK"
      }
    },
    {
      "cell_type": "code",
      "source": [
        "# Connect to the SQLite database\n",
        "conn = sqlite3.connect(\"/content/AUS_energy_sqlite3.db\")\n",
        "\n",
        "# Get cursor object to interact with the database\n",
        "cur = conn.cursor()"
      ],
      "metadata": {
        "id": "wRYENznkRIWt"
      },
      "execution_count": null,
      "outputs": []
    },
    {
      "cell_type": "code",
      "source": [
        "# Get list of tables in the database\n",
        "cur.execute(\"SELECT name FROM sqlite_master WHERE type='table';\")\n",
        "tables = cur.fetchall()\n",
        "print(\"Tables in the database:\")\n",
        "for table in tables:\n",
        "    print(table[0])\n",
        "\n",
        "# For each table, get the schema\n",
        "for table in tables:\n",
        "    table_name = table[0]\n",
        "    cur.execute(f\"PRAGMA table_info({table_name});\")\n",
        "    schema = cur.fetchall()\n",
        "    print(f\"\\nSchema for table '{table_name}':\")\n",
        "    for col in schema:\n",
        "        print(col)"
      ],
      "metadata": {
        "colab": {
          "base_uri": "https://localhost:8080/"
        },
        "id": "J4D2thFlRS2a",
        "outputId": "1b39f9f8-c56f-4a56-ae9f-20e78bda46b4"
      },
      "execution_count": null,
      "outputs": [
        {
          "output_type": "stream",
          "name": "stdout",
          "text": [
            "Tables in the database:\n",
            "AUS_energy\n",
            "\n",
            "Schema for table 'AUS_energy':\n",
            "(0, 'Year', 'TEXT', 0, None, 0)\n",
            "(1, 'State', 'TEXT', 0, None, 0)\n",
            "(2, 'Coal (PJ)', 'REAL', 0, None, 0)\n",
            "(3, 'Oil (PJ)', 'REAL', 0, None, 0)\n",
            "(4, 'Gas (PJ)', 'REAL', 0, None, 0)\n",
            "(5, 'Renewables (PJ)', 'REAL', 0, None, 0)\n",
            "(6, 'Population', 'INTEGER', 0, None, 0)\n",
            "(7, 'GSP ($ million)', 'INTEGER', 0, None, 0)\n"
          ]
        }
      ]
    },
    {
      "cell_type": "markdown",
      "source": [
        "The above code connects to the SQLite database and after iterating over each table in the database, it retrieves a list of tables in the database using a SQL query on the sqlite_master table, which stores metadata about the database schema."
      ],
      "metadata": {
        "id": "VEtJWcjIRiiW"
      }
    },
    {
      "cell_type": "markdown",
      "source": [
        "For each table, it retrieves the schema information using the \"PRAGMA table_info() \" function. This function returns one row for each column in the table, containing details such as column position on the table, column name, data type, default value and constraints."
      ],
      "metadata": {
        "id": "j6q8ITsuRjIM"
      }
    },
    {
      "cell_type": "markdown",
      "source": [
        "## Example of grouping, filtering and most importantly cleaning a dataset for further analysis."
      ],
      "metadata": {
        "id": "_lfeLSgbRz2t"
      }
    },
    {
      "cell_type": "code",
      "source": [
        "# Writing SQL query to extract relevant information\n",
        "query = \"\"\"\n",
        "SELECT *\n",
        "FROM AUS_energy;\n",
        "\"\"\"\n",
        "\n",
        "# Load query results into a Pandas DataFrame\n",
        "df = pd.read_sql_query(query, conn)\n",
        "\n",
        "# Perform data manipulation tasks (filtering, grouping, aggregation)\n",
        "# Example: filtering\n",
        "# Convert the values in the 'Coal (PJ)' column to numeric type (float)\n",
        "df['Coal (PJ)'] = pd.to_numeric(df['Coal (PJ)'], errors='coerce')  # Convert to float, errors='coerce' will convert non-numeric values to NaN\n",
        "\n",
        "# Filter the DataFrame based on the condition\n",
        "filtered_df = df[df['Coal (PJ)'] > 100]\n",
        "\n",
        "# Example: grouping and aggregation\n",
        "grouped_df = df.groupby('State').agg({'Coal (PJ)': 'sum'})\n",
        "\n",
        "# Clean and pre-process the data\n",
        "# Example: handling missing values\n",
        "cleaned_df = df.dropna()\n",
        "\n",
        "# Example: handling inconsistent values\n",
        "cleaned_df.loc[:, 'State'] = cleaned_df['State'].apply(lambda x: x.lower())\n",
        "\n"
      ],
      "metadata": {
        "id": "2pV1CaeFRlD6"
      },
      "execution_count": null,
      "outputs": []
    },
    {
      "cell_type": "code",
      "source": [
        "# Printing the entire DataFrame of a grouped data\n",
        "print(grouped_df)"
      ],
      "metadata": {
        "colab": {
          "base_uri": "https://localhost:8080/"
        },
        "collapsed": true,
        "id": "7j9bfMu5Rqi6",
        "outputId": "7cf6ff7c-0045-4918-8416-240544721890"
      },
      "execution_count": null,
      "outputs": [
        {
          "output_type": "stream",
          "name": "stdout",
          "text": [
            "       Coal (PJ)\n",
            "State           \n",
            "NSW       9076.7\n",
            "NT           0.0\n",
            "QLD       7259.9\n",
            "SA         651.7\n",
            "TAS        143.3\n",
            "VIC       8007.5\n",
            "WA        1807.8\n"
          ]
        }
      ]
    },
    {
      "cell_type": "code",
      "source": [
        "# Print the entire DataFrame of a filtered data\n",
        "print(filtered_df)"
      ],
      "metadata": {
        "collapsed": true,
        "colab": {
          "base_uri": "https://localhost:8080/"
        },
        "id": "v9UcR_cgRuIG",
        "outputId": "ed859dab-28a1-4483-aa56-98c2e64f7775"
      },
      "execution_count": null,
      "outputs": [
        {
          "output_type": "stream",
          "name": "stdout",
          "text": [
            "       Year State  Coal (PJ)  Oil (PJ)  Gas (PJ)  Renewables (PJ)  Population  \\\n",
            "0   2008-09    WA      132.9     294.3     474.7             15.6     2240250   \n",
            "1   2008-09   NSW      800.9     587.5     131.6             54.7     7408540   \n",
            "2   2008-09   VIC      695.3     432.9     273.5             33.6     5371934   \n",
            "3   2008-09   QLD      629.2     469.5     187.9             77.4     4328771   \n",
            "7   2009-10    WA      125.6     290.0     474.9             14.6     2290845   \n",
            "8   2009-10   NSW      771.8     638.9     148.7             63.8     7506058   \n",
            "9   2009-10   VIC      688.7     448.4     263.5             36.0     5461101   \n",
            "10  2009-10   QLD      547.5     466.9     195.8            107.4     4404744   \n",
            "14  2010-11    WA      130.6     341.5     494.9             15.3     2353409   \n",
            "15  2010-11   NSW      732.2     685.0     146.5             68.6     7586514   \n",
            "16  2010-11   VIC      681.2     488.8     258.6             44.7     5537817   \n",
            "17  2010-11   QLD      497.2     483.3     190.6             98.7     4476778   \n",
            "21  2011-12    WA      125.0     339.5     503.4             17.0     2425507   \n",
            "22  2011-12   NSW      692.7     687.4     142.1             71.1     7680783   \n",
            "23  2011-12   VIC      705.7     469.3     263.6             41.0     5651091   \n",
            "24  2011-12   QLD      481.5     504.8     246.1             99.7     4568687   \n",
            "28  2012-13    WA      129.8     357.5     515.5             18.8     2486944   \n",
            "29  2012-13   NSW      643.0     677.4     157.4             70.9     7787289   \n",
            "30  2012-13   VIC      622.0     488.3     276.2             55.5     5772669   \n",
            "31  2012-13   QLD      473.4     514.7     239.8            114.2     4652824   \n",
            "35  2013-14    WA      136.1     373.5     536.1             20.9     2517608   \n",
            "36  2013-14   NSW      603.5     666.6     167.0             72.8     7897152   \n",
            "37  2013-14   VIC      605.6     495.5     252.8             57.2     5894917   \n",
            "38  2013-14   QLD      442.9     531.2     258.0            109.6     4719653   \n",
            "42  2014-15    WA      127.6     355.6     539.9             22.3     2540672   \n",
            "43  2014-15   NSW      587.8     621.4     163.5             71.0     8011981   \n",
            "44  2014-15   VIC      641.2     464.5     257.7             59.2     6022322   \n",
            "45  2014-15   QLD      485.3     555.5     294.9            122.5     4777692   \n",
            "49  2015-16    WA      136.4     403.7     561.9             21.9     2555978   \n",
            "50  2015-16   NSW      620.9     633.6     164.8             82.4     8135962   \n",
            "51  2015-16   VIC      617.4     507.0     253.9             62.3     6173172   \n",
            "52  2015-16   QLD      517.8     542.5     296.4            120.4     4845152   \n",
            "56  2016-17    WA      145.9     411.4     594.9             24.8     2585720   \n",
            "57  2016-17   NSW      625.9     652.6     143.6             84.5     8270362   \n",
            "58  2016-17   VIC      577.3     512.4     258.7             65.6     6302608   \n",
            "59  2016-17   QLD      544.2     563.6     309.6            129.6     4926380   \n",
            "63  2017-18    WA      136.2     405.2     643.3             25.0     2617792   \n",
            "64  2017-18   NSW      636.7     672.4     144.1             86.6     8380557   \n",
            "65  2017-18   VIC      467.4     517.9     263.6             66.1     6423038   \n",
            "66  2017-18   QLD      570.6     579.1     302.3            120.6     5006623   \n",
            "70  2018-19    WA      126.8     439.4     667.8             27.3     2659625   \n",
            "71  2018-19   NSW      640.3     665.0     139.2             90.4     8482478   \n",
            "72  2018-19   VIC      444.1     507.9     255.9             72.0     6537305   \n",
            "73  2018-19   QLD      554.2     577.3     294.0            123.9     5088847   \n",
            "77  2019-20    WA      119.5     423.6     692.6             29.1     2712912   \n",
            "78  2019-20   NSW      606.6     611.4     141.9             95.6     8555513   \n",
            "79  2019-20   VIC      423.2     453.0     256.5             77.4     6615046   \n",
            "80  2019-20   QLD      524.4     543.7     313.0            127.0     5165613   \n",
            "84  2020-21    WA      114.3     418.6     670.2             35.9     2749365   \n",
            "85  2020-21   NSW      579.8     556.0     135.8            110.6     8549570   \n",
            "86  2020-21   VIC      427.7     384.7     236.3             89.3     6547822   \n",
            "87  2020-21   QLD      506.1     501.8     313.0            139.6     5215814   \n",
            "91  2021-22    WA      121.1     422.5     673.1             41.2     2789148   \n",
            "92  2021-22   NSW      534.6     547.2     145.3            125.4     8622575   \n",
            "93  2021-22   VIC      410.7     410.0     237.5            105.2     6625964   \n",
            "94  2021-22   QLD      485.6     504.7     305.7            143.0     5320496   \n",
            "\n",
            "    GSP ($ million)  \n",
            "0            244695  \n",
            "1            530532  \n",
            "2            368579  \n",
            "3            284526  \n",
            "7            259326  \n",
            "8            539670  \n",
            "9            372276  \n",
            "10           290556  \n",
            "14           271336  \n",
            "15           550617  \n",
            "16           382790  \n",
            "17           292986  \n",
            "21           293802  \n",
            "22           564462  \n",
            "23           391911  \n",
            "24           310052  \n",
            "28           311508  \n",
            "29           577133  \n",
            "30           395536  \n",
            "31           318873  \n",
            "35           329469  \n",
            "36           589786  \n",
            "37           404188  \n",
            "38           325109  \n",
            "42           336847  \n",
            "43           605748  \n",
            "44           415359  \n",
            "45           327729  \n",
            "49           340214  \n",
            "50           628348  \n",
            "51           429500  \n",
            "52           335443  \n",
            "56           336669  \n",
            "57           644777  \n",
            "58           445853  \n",
            "59           344040  \n",
            "63           344380  \n",
            "64           660048  \n",
            "65           460824  \n",
            "66           357495  \n",
            "70           349785  \n",
            "71           677799  \n",
            "72           474913  \n",
            "73           360960  \n",
            "77           354114  \n",
            "78           675496  \n",
            "79           475512  \n",
            "80           357646  \n",
            "84           365904  \n",
            "85           693658  \n",
            "86           474309  \n",
            "87           368192  \n",
            "91           377257  \n",
            "92           706003  \n",
            "93           500900  \n",
            "94           384508  \n"
          ]
        }
      ]
    },
    {
      "cell_type": "code",
      "source": [
        "# Print the entire DataFrame\n",
        "print(cleaned_df)\n",
        "\n",
        "# Alternatively, you can use .head() to display the first few rows\n",
        "# print(cleaned_df.head())\n",
        "\n",
        "# Or use .tail() to display the last few rows\n",
        "# print(cleaned_df.tail())"
      ],
      "metadata": {
        "collapsed": true,
        "colab": {
          "base_uri": "https://localhost:8080/"
        },
        "id": "NKqPs_d_SGJW",
        "outputId": "bda9954b-3411-4a75-97c3-87210d3bbc9d"
      },
      "execution_count": null,
      "outputs": [
        {
          "output_type": "stream",
          "name": "stdout",
          "text": [
            "       Year State  Coal (PJ)  Oil (PJ)  Gas (PJ)  Renewables (PJ)  Population  \\\n",
            "0   2008-09    wa      132.9     294.3     474.7             15.6     2240250   \n",
            "1   2008-09   nsw      800.9     587.5     131.6             54.7     7408540   \n",
            "2   2008-09   vic      695.3     432.9     273.5             33.6     5371934   \n",
            "3   2008-09   qld      629.2     469.5     187.9             77.4     4328771   \n",
            "4   2008-09    sa       80.2     120.2     134.0             21.2     1608902   \n",
            "..      ...   ...        ...       ...       ...              ...         ...   \n",
            "92  2021-22   nsw      534.6     547.2     145.3            125.4     8622575   \n",
            "93  2021-22   vic      410.7     410.0     237.5            105.2     6625964   \n",
            "94  2021-22   qld      485.6     504.7     305.7            143.0     5320496   \n",
            "95  2021-22    sa       25.9     141.6      80.2             48.3     1821200   \n",
            "96  2021-22   tas        8.8      39.9       7.1             48.1      571013   \n",
            "\n",
            "    GSP ($ million)  \n",
            "0            244695  \n",
            "1            530532  \n",
            "2            368579  \n",
            "3            284526  \n",
            "4            100174  \n",
            "..              ...  \n",
            "92           706003  \n",
            "93           500900  \n",
            "94           384508  \n",
            "95           124252  \n",
            "96            36701  \n",
            "\n",
            "[84 rows x 8 columns]\n"
          ]
        }
      ]
    },
    {
      "cell_type": "markdown",
      "source": [
        "## ***Main Insights:***\n",
        "\n",
        "**Trends Over Time:**\n",
        "We can observe trends in energy consumption across different states over the years from 2008-09 to 2021-22.\n",
        "\n",
        "**Regional Variances:**\n",
        "There are significant differences in energy consumption between states, with some states consistently consuming more energy than others.\n",
        "\n",
        "**Energy Source Breakdown:**\n",
        "The data includes energy consumption from various sources such as coal, oil, gas, renewables, etc., providing insights into the energy mix of each state.\n",
        "\n",
        "**Population and Economic Factors:**\n",
        "The dataset also includes population and Gross State Product (GSP), which can be used to analyze the relationship between energy consumption and population/economic growth."
      ],
      "metadata": {
        "id": "THxiamNTSLYl"
      }
    },
    {
      "cell_type": "markdown",
      "source": [
        "## ***Limitations***\n",
        "**Data Granularity:**\n",
        "The dataset provides annual aggregates, but finer granularity (e.g., monthly or quarterly data) could provide more insights into seasonal variations or short-term trends.\n",
        "\n",
        "**Missing Context**:\n",
        "Without additional context or external factors (e.g., climate, industrial activities, policy changes), it's challenging to fully interpret the observed trends in energy consumption."
      ],
      "metadata": {
        "id": "3d_SW_qVSPMv"
      }
    },
    {
      "cell_type": "markdown",
      "source": [
        "## ***Usability and Effectiveness of Python Notebooks:***\n",
        "**Interactive Analysis:**\n",
        "Python notebooks allow for interactive data analysis, enabling users to explore data, run code, and visualize results in a single document.\n",
        "\n",
        "**Reproducibility:**\n",
        "Notebooks provide a transparent and reproducible workflow, making it easy to share analyses with others and replicate findings.\n",
        "\n",
        "**Documentation and Communication:**\n",
        "Notebooks serve as effective documentation tools, allowing users to combine code, analysis, and visualizations with explanatory text to communicate findings.\n",
        "\n",
        "**Integration with Libraries and Tools:**\n",
        "Python's rich ecosystem of libraries (e.g., Pandas, Matplotlib) enables seamless data manipulation, analysis, and visualization within notebooks."
      ],
      "metadata": {
        "id": "75w4LY4QSdx9"
      }
    },
    {
      "cell_type": "markdown",
      "source": [
        "## ***Role of Gen AI***\n",
        "\n",
        "Gen AI plays a pivotal role in augmenting human intelligence, accelerating problem-solving, and enabling data-driven decision-making across various domains. However, it's crucial to approach its use with careful consideration of ethical implications and ensure collaboration between AI systems and human experts for optimal outcomes."
      ],
      "metadata": {
        "id": "bM1HfpKISgkU"
      }
    },
    {
      "cell_type": "markdown",
      "source": [
        "# **Group A**"
      ],
      "metadata": {
        "id": "Mf_AotuESwvd"
      }
    },
    {
      "cell_type": "markdown",
      "source": [
        "## **Task 1: Compute and visualize the total energy consumption for each state.**"
      ],
      "metadata": {
        "id": "bVlGP13eS0ng"
      }
    },
    {
      "cell_type": "code",
      "source": [
        "# Write SQL query to compute total energy consumption for each state\n",
        "query = \"\"\"\n",
        "SELECT State, SUM(\"Coal (PJ)\" + \"Oil (PJ)\" + \"Gas (PJ)\" + \"Renewables (PJ)\") AS total_energy_consumption\n",
        "FROM AUS_energy\n",
        "GROUP BY State;\n",
        "\"\"\"\n",
        "\n",
        "# Load query results into a Pandas DataFrame\n",
        "state_energy_df = pd.read_sql_query(query, conn)\n",
        "\n",
        "# Visualize the data\n",
        "plt.bar(state_energy_df['State'], state_energy_df['total_energy_consumption'])\n",
        "plt.xlabel('State')\n",
        "plt.ylabel('Total Energy Consumption (PJ)')\n",
        "plt.title('Total Energy Consumption for Each State')\n",
        "plt.xticks(rotation=45)\n",
        "plt.show()"
      ],
      "metadata": {
        "colab": {
          "base_uri": "https://localhost:8080/",
          "height": 491
        },
        "id": "ALtr2K3WY6sl",
        "outputId": "06a43c0a-7d5d-4ec5-aee1-453f1edbb604"
      },
      "execution_count": 60,
      "outputs": [
        {
          "output_type": "display_data",
          "data": {
            "text/plain": [
              "<Figure size 640x480 with 1 Axes>"
            ],
            "image/png": "[encoded data removed]"
          },
          "metadata": {}
        }
      ]
    },
    {
      "cell_type": "markdown",
      "source": [
        "We wrote the necessary SQL query to compute the total energy consumption for each state by summing up the energy consumption from different sources (coal, oil, gas, renewables).\n",
        "\n",
        "Grouping: We grouped the data by state.\n",
        "\n",
        "Aggregation: We summed up the energy consumption from all sources for each state.\n",
        "\n",
        "Then we loaded the query results into a Pandas DataFrame. Finally, we visualized the total energy consumption for each state using a bar chart."
      ],
      "metadata": {
        "id": "7JMK93vnY9vd"
      }
    },
    {
      "cell_type": "markdown",
      "source": [
        "## **Task 2: Compute and visualize the total energy consumption by fuel type.**"
      ],
      "metadata": {
        "id": "ADsnjQa3hf1n"
      }
    },
    {
      "cell_type": "code",
      "source": [
        "# Write SQL query to compute total energy consumption by fuel type\n",
        "query = \"\"\"\n",
        "SELECT 'Coal' AS fuel_type, SUM(\"Coal (PJ)\") AS total_energy_consumption FROM AUS_energy\n",
        "UNION ALL\n",
        "SELECT 'Oil' AS fuel_type, SUM(\"Oil (PJ)\") FROM AUS_energy\n",
        "UNION ALL\n",
        "SELECT 'Gas' AS fuel_type, SUM(\"Gas (PJ)\") FROM AUS_energy\n",
        "UNION ALL\n",
        "SELECT 'Renewables' AS fuel_type, SUM(\"Renewables (PJ)\") FROM AUS_energy;\n",
        "\"\"\"\n",
        "\n",
        "# Load query results into a Pandas DataFrame\n",
        "fuel_energy_df = pd.read_sql_query(query, conn)\n",
        "\n",
        "# Visualize the data\n",
        "plt.bar(fuel_energy_df['fuel_type'], fuel_energy_df['total_energy_consumption'])\n",
        "plt.xlabel('Fuel Type')\n",
        "plt.ylabel('Total Energy Consumption (PJ)')\n",
        "plt.title('Total Energy Consumption by Fuel Type')\n",
        "plt.show()"
      ],
      "metadata": {
        "colab": {
          "base_uri": "https://localhost:8080/",
          "height": 472
        },
        "id": "huNrg7-thej4",
        "outputId": "fc2d5d0e-6320-42df-bc6d-2f74d617a8b8"
      },
      "execution_count": 64,
      "outputs": [
        {
          "output_type": "display_data",
          "data": {
            "text/plain": [
              "<Figure size 640x480 with 1 Axes>"
            ],
            "image/png": "[encoded data removed]"
          },
          "metadata": {}
        }
      ]
    },
    {
      "cell_type": "markdown",
      "source": [
        "We wrote thr SQL query to compute the total energy consumption for each fuel type by summing up the energy consumption from respective columns.\n",
        "\n",
        "Aggregation: We summed up the energy consumption for each fuel type across all records and used the UNION ALL operator to combine the results of multiple queries.\n",
        "\n",
        "After the query results had been loaded into a Pandas DataFrame, we visualized the total energy consumption by fuel type using a bar chart."
      ],
      "metadata": {
        "id": "y0u4OKeihuyC"
      }
    }
  ]
}